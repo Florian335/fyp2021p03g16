{
 "cells": [
  {
   "cell_type": "code",
   "execution_count": null,
   "metadata": {},
   "outputs": [],
   "source": [
    "import pandas as pd\n",
    "import numpy as np\n",
    "from  matplotlib import pyplot as plt\n",
    "import matplotlib.image as mpimg\n",
    "import os\n",
    "import random\n",
    "import cv2\n",
    "from PIL import Image\n",
    "from skimage import morphology\n",
    "from collections import Counter\n",
    "from collections import OrderedDict\n",
    "from skimage.color import rgb2hsv"
   ]
  },
  {
   "cell_type": "code",
   "execution_count": null,
   "metadata": {},
   "outputs": [],
   "source": [
    "test_folder='../../data/raw/example_image/'\n",
    "test_folder1 = '../../data/raw/example_segmentation/'\n",
    "ground_truth = '../../data/raw/example_ground_truth.csv'\n",
    "ground_truth = pd.read_csv(ground_truth)\n",
    "ground_truth = ground_truth.set_index('image_id')\n",
    "file1 = os.listdir(test_folder1)\n",
    "file = os.listdir(test_folder)\n",
    "#image_path= os.path.join(test_folder,file)\n",
    "#print(image_path)\n",
    "#img=plt.imread(image_path)\n",
    "\n",
    "#removing all the superpixels images and getting all the colored images in a list\n",
    "color_images_paths = []\n",
    "segmentation = []\n",
    "for i in file:\n",
    "    image_path= os.path.join(test_folder,i)\n",
    "    if not i.endswith('superpixels.png'):\n",
    "        color_images_paths.append(image_path)\n",
    "colored_images = sorted(color_images_paths[1:]) #right one bcs the first one is weird DS STORE thing, IDK IF THE SORTED THING DOES ANYTHING\n",
    "for i in file1:\n",
    "    image_path1 = os.path.join(test_folder1,i)\n",
    "    segmentation.append(image_path1)\n",
    "both = list(zip(colored_images,segmentation)) #having both in a list of tuples\n",
    "\n",
    "#splitting the images\n",
    "keratosis_images = ground_truth.index[ground_truth['seborrheic_keratosis'] == 1.0].tolist()\n",
    "melanoma_images = ground_truth.index[ground_truth['melanoma'] == 1.0].tolist()\n",
    "healthy_images = ground_truth[(ground_truth['seborrheic_keratosis'] == 0.0) & (ground_truth['melanoma'] == 0.0)]\n",
    "\n",
    "\n",
    "\n",
    "\n",
    "k_segmentation = [os.path.join(test_folder1,i + '_segmentation.png') for i in keratosis_images] #positive keratosis segmentation path\n",
    "m_segmentation = [os.path.join(test_folder1,i + '_segmentation.png') for i in melanoma_images] #positive melanoma segmentation path\n",
    "h_segmentation = [os.path.join(test_folder1,i + '_segmentation.png') for i in healthy_images.index.tolist()]"
   ]
  },
  {
   "cell_type": "code",
   "execution_count": null,
   "metadata": {},
   "outputs": [],
   "source": [
    "keratosis = [os.path.join(test_folder,i + '.jpg') for i in keratosis_images] #positive keratosis colour_images path\n",
    "melanoma = [os.path.join(test_folder,i + '.jpg') for i in melanoma_images] #positive melanoma colour_images path\n",
    "healthy = [os.path.join(test_folder,i + '.jpg') for i in healthy_images.index.tolist()] #healthy colour_images path\n",
    "\n",
    "\n",
    "final_keratosis = list(zip(keratosis,k_segmentation))\n",
    "final_melanoma = list(zip(melanoma,m_segmentation))\n",
    "final_healthy = list(zip(healthy,h_segmentation))"
   ]
  },
  {
   "cell_type": "code",
   "execution_count": null,
   "metadata": {},
   "outputs": [],
   "source": [
    "#def rgb2gray(rgb):\n",
    "#    return np.dot(rgb[...,:3], [0.2989, 0.5870, 0.1140])\n",
    "#image_path= os.path.join(test_folder1,file[1])\n",
    "#img=plt.imread(image_path)\n",
    "##print(img)\n",
    "#grey = rgb2gray(img)\n",
    "#plt.imshow(grey)\n",
    "#print(grey)"
   ]
  },
  {
   "cell_type": "code",
   "execution_count": null,
   "metadata": {},
   "outputs": [],
   "source": [
    "def load_images_from_folder(folder):\n",
    "    images = []\n",
    "    for filename in os.listdir(folder):\n",
    "        img = cv2.imread(os.path.join(folder,filename))\n",
    "        if img is not None:\n",
    "            images.append(img)\n",
    "    return images"
   ]
  },
  {
   "cell_type": "code",
   "execution_count": null,
   "metadata": {},
   "outputs": [],
   "source": [
    "#for i in load_images_from_folder(test_folder1):\n",
    "    #print(i.shape)"
   ]
  },
  {
   "cell_type": "code",
   "execution_count": null,
   "metadata": {},
   "outputs": [],
   "source": [
    "image_path1 = os.path.join(test_folder1,file1[0])\n",
    "image_path = os.path.join(test_folder,file[1])\n",
    "img1 = plt.imread(image_path1)\n",
    "img = plt.imread(image_path)\n",
    "plt.imshow(img)"
   ]
  },
  {
   "cell_type": "code",
   "execution_count": null,
   "metadata": {},
   "outputs": [],
   "source": [
    "#CORRECT\n",
    "im1 = Image.open(image_path)\n",
    "im2 = Image.open(image_path1)\n",
    "im2.paste(im1, (0,0), mask = im2) \n",
    "  \n",
    "# Display \n",
    "im2.show()  \n",
    "plt.imshow(im2, cmap='gray')\n",
    "\n",
    "\n",
    "# Note that this is a single channel image\n",
    "print(image_path1) \n",
    "print(image_path)"
   ]
  },
  {
   "cell_type": "code",
   "execution_count": null,
   "metadata": {},
   "outputs": [],
   "source": [
    "#CORRECT\n",
    "im = plt.imread('../../data/Raw/example_image/ISIC_0001769.jpg')\n",
    "mask=plt.imread('../../data/Raw/example_segmentation/ISIC_0001769_segmentation.png')\n",
    "area = np.sum(mask)\n",
    "#print(area)\n",
    "struct_el = morphology.disk(1)\n",
    "mask_eroded = morphology.binary_erosion(mask, struct_el)\n",
    "image_perimeter = mask - mask_eroded\n",
    "#print(image_perimeter)\n",
    "#print(np.sum(image_perimeter))\n",
    "plt.imshow(image_perimeter,cmap = 'cool')"
   ]
  },
  {
   "cell_type": "code",
   "execution_count": null,
   "metadata": {},
   "outputs": [],
   "source": [
    "#MEASURE AND MAYBE MAKE AN AVERAGE OF RGB COLORS<HOW TO DETECT IF THIS IS BENING OR MALIGN BASED ON COLOR?>\n",
    "im1 = im.copy()\n",
    "im1[mask==0] = 0\n",
    "new_arr_no_0 = im1[np.where(im1!=0)]\n",
    "#CROP FOR EVERY PICTURE < FOR BETTER PERFORMANCE\n",
    "#plt.imshow(im1)\n",
    "mask2 = im1[600:1200,1300:2100,:]\n",
    "plt.imshow(im1)"
   ]
  },
  {
   "cell_type": "code",
   "execution_count": null,
   "metadata": {},
   "outputs": [],
   "source": [
    "# COLOUR COUNTS FOR POSSIBLE COLOR ANALYSIS\n",
    "color_count = {}\n",
    "#width, height = image.size\n",
    "image = Image.fromarray(mask2)\n",
    "rgb_image = image.convert('RGB')\n",
    "\n",
    "rgb = rgb_image.getpixel((686, 519))\n",
    "print(rgb)"
   ]
  },
  {
   "cell_type": "code",
   "execution_count": null,
   "metadata": {},
   "outputs": [],
   "source": [
    "image = cv2.imread('../../data/Raw/example_segmentation/ISIC_0001769_segmentation.png')"
   ]
  },
  {
   "cell_type": "code",
   "execution_count": null,
   "metadata": {},
   "outputs": [],
   "source": [
    "def crop(image):\n",
    "    y_nonzero, x_nonzero, _ = np.nonzero(image)\n",
    "    return image[np.min(y_nonzero):np.max(y_nonzero), np.min(x_nonzero):np.max(x_nonzero)]"
   ]
  },
  {
   "cell_type": "code",
   "execution_count": null,
   "metadata": {
    "scrolled": false
   },
   "outputs": [],
   "source": [
    "img2 = crop(im1)\n",
    "plt.imshow(img2)\n",
    "xy_coords = np.flip(np.column_stack(np.where(img2 >= 0)), axis=1)\n",
    "xy_coords\n",
    "a_del = np.delete(xy_coords, 0, 1)\n",
    "a_del = a_del[::3][:, [0, 1]] #python dark magic\n",
    "print(xy_coords)"
   ]
  },
  {
   "cell_type": "code",
   "execution_count": null,
   "metadata": {},
   "outputs": [],
   "source": []
  },
  {
   "cell_type": "code",
   "execution_count": null,
   "metadata": {
    "scrolled": true
   },
   "outputs": [],
   "source": [
    "image_copy = img2.copy()\n",
    "black_pixels_mask = np.all(img2 == [0, 0, 0], axis=-1)\n",
    "\n",
    "non_black_pixels_mask = np.any(img2 != [0, 0, 0], axis=-1)  \n",
    "print(image_copy[non_black_pixels_mask])\n",
    "# or non_black_pixels_mask = ~black_pixels_mask\n",
    "\n",
    "image_copy[black_pixels_mask] = [255, 255, 255]\n",
    "#image_copy[non_black_pixels_mask] = [0, 0, 0]\n"
   ]
  },
  {
   "cell_type": "code",
   "execution_count": null,
   "metadata": {},
   "outputs": [],
   "source": [
    "dada = rgb2hsv(image_copy[non_black_pixels_mask])\n",
    "np.amax(dada[:,1])\n",
    "np.amin(dada[:,1])"
   ]
  },
  {
   "cell_type": "code",
   "execution_count": null,
   "metadata": {},
   "outputs": [],
   "source": [
    "def hsv(img,seg):\n",
    "    im = plt.imread(img)\n",
    "    mask = plt.imread(seg)\n",
    "    im1 = im.copy()\n",
    "    im1[mask==0] = 0\n",
    "    new_arr_no_0 = im1[np.where(im1!=0)]\n",
    "    img2 = crop(im1)\n",
    "    image_copy = img2.copy()\n",
    "    non_black_pixels_mask = np.any(img2 != [0, 0, 0], axis=-1)  \n",
    "    no_black = image_copy[non_black_pixels_mask]\n",
    "    hsv_image = rgb2hsv(no_black)\n",
    "    min_max = [np.amax(hsv_image[:,1]) - np.amin(hsv_image[:,1])]\n",
    "    return min_max"
   ]
  },
  {
   "cell_type": "code",
   "execution_count": null,
   "metadata": {},
   "outputs": [],
   "source": [
    "hsv('../../data/Raw/example_image/ISIC_0001769.jpg','../../data/Raw/example_segmentation/ISIC_0001769_segmentation.png')"
   ]
  },
  {
   "cell_type": "code",
   "execution_count": null,
   "metadata": {},
   "outputs": [],
   "source": [
    "rgb1 = [rgb_image.getpixel((int(i[0]),int(i[1]))) for i in a_del]\n",
    "print(len(rgb1))"
   ]
  },
  {
   "cell_type": "code",
   "execution_count": null,
   "metadata": {},
   "outputs": [],
   "source": [
    "def RGB2HEX(color):\n",
    "    return \"#{:02x}{:02x}{:02x}\".format(int(color[0]), int(color[1]), int(color[2]))"
   ]
  },
  {
   "cell_type": "code",
   "execution_count": null,
   "metadata": {},
   "outputs": [],
   "source": [
    "#RGB2HEX\n",
    "dd = [RGB2HEX(i) for i in rgb1]\n",
    "ss = list(set(dd))\n",
    "counter_colours = Counter(dd) #count occurences in the colours"
   ]
  },
  {
   "cell_type": "code",
   "execution_count": null,
   "metadata": {},
   "outputs": [],
   "source": [
    "#to do create a function that takes all the images, takes all of their colour occurences, \n",
    "#split them by healthy or unhealthy, and then compare colour variation"
   ]
  },
  {
   "cell_type": "code",
   "execution_count": null,
   "metadata": {},
   "outputs": [],
   "source": [
    "def colour_reader(img,mk):\n",
    "    im = plt.imread(img)\n",
    "    #mask is the gray segmentation mask\n",
    "    mask = plt.imread(mk)\n",
    "    #putting the color over the mask\n",
    "    im1 = im.copy()\n",
    "    im1[mask==0] = 0 #again python dark magic\n",
    "    #now for better performance we have to crop the image to it's extremities by calling the crop function\n",
    "    img2 = crop(im1)\n",
    "    #we have to get the coordinates of every pixel in the image so\n",
    "    xy_coords = np.flip(np.column_stack(np.where(img2 >= 0)), axis=1)\n",
    "    #if we print xy_coords they will appear three times because every pixel has three colour coordinates, namely RGB,thus\n",
    "    #I have to delete the first column(which is 0,1,2) and the duplicates\n",
    "    a_del = np.delete(xy_coords, 0, 1)\n",
    "    a_del = a_del[::3][:, [0, 1]] #python dark magic\n",
    "    #now we get all the rgb colours from every pixel in our picture\n",
    "    image = Image.fromarray(img2)\n",
    "    rgb_image = image.convert('RGB')\n",
    "    rgb1 = [rgb_image.getpixel((int(i[0]),int(i[1]))) for i in a_del]\n",
    "    #now to reduce it as much as we can we turn it to hexcodes so we don't have tuples of 3 values and we eliminate duplicates\n",
    "    dd = [RGB2HEX(i) for i in rgb1]\n",
    "    ss = list(set(dd)) #ye,I know\n",
    "    #now just a nice thing, to count how many colours appear in our picture, first one is useless since it will always be black\n",
    "    counter_colours =  Counter(dd)\n",
    "    #popping the black color\n",
    "    counter_colours.pop('#000000')\n",
    "    return counter_colours"
   ]
  },
  {
   "cell_type": "code",
   "execution_count": null,
   "metadata": {},
   "outputs": [],
   "source": [
    "imm = '../../data/Raw/example_image/ISIC_0001769.jpg'\n",
    "maskk='../../data/raw/example_segmentation/ISIC_0001769_segmentation.png'"
   ]
  },
  {
   "cell_type": "code",
   "execution_count": null,
   "metadata": {
    "scrolled": false
   },
   "outputs": [],
   "source": [
    "#colour_reader(imm,maskk) #ignore the #00000 is the black one, will always be the most, update : I popped the black one :)"
   ]
  },
  {
   "cell_type": "code",
   "execution_count": null,
   "metadata": {},
   "outputs": [],
   "source": [
    "#final_list = [colour_reader(i[0],i[1]) for i in final_keratosis[:20]]\n",
    "final_list_hsv = [hsv(i[0],i[1]) for i in final_keratosis[:20]]"
   ]
  },
  {
   "cell_type": "code",
   "execution_count": null,
   "metadata": {},
   "outputs": [],
   "source": [
    "#final_final = [len(i) for i in final_list]"
   ]
  },
  {
   "cell_type": "code",
   "execution_count": null,
   "metadata": {},
   "outputs": [],
   "source": [
    "#print(final_final)"
   ]
  },
  {
   "cell_type": "code",
   "execution_count": null,
   "metadata": {},
   "outputs": [],
   "source": [
    "#final_h = [colour_reader(i[0],i[1]) for i in final_healthy[:20]]\n",
    "final_hsv = [hsv(i[0],i[1]) for i in final_healthy[:20]]"
   ]
  },
  {
   "cell_type": "code",
   "execution_count": null,
   "metadata": {},
   "outputs": [],
   "source": [
    "#h_len = [len(i) for i in final_h]"
   ]
  },
  {
   "cell_type": "code",
   "execution_count": null,
   "metadata": {},
   "outputs": [],
   "source": [
    "#print(h_len)"
   ]
  },
  {
   "cell_type": "code",
   "execution_count": null,
   "metadata": {},
   "outputs": [],
   "source": [
    "clas = np.array([1,1,1,1,1,1,1,1,1,1,1,1,1,1,1,1,1,1,1,1,0,0,0,0,0,0,0,0,0,0,0,0,0,0,0,0,0,0,0,0])"
   ]
  },
  {
   "cell_type": "code",
   "execution_count": null,
   "metadata": {},
   "outputs": [],
   "source": [
    "feed = np.array(final_final + h_len)\n",
    "feed2 = np.array([y for x in [final_list_hsv, final_hsv] for y in x])\n",
    "#print(feed2)\n"
   ]
  },
  {
   "cell_type": "code",
   "execution_count": null,
   "metadata": {},
   "outputs": [],
   "source": [
    "#print(feed)"
   ]
  },
  {
   "cell_type": "markdown",
   "metadata": {},
   "source": [
    "ML Tries"
   ]
  },
  {
   "cell_type": "code",
   "execution_count": null,
   "metadata": {},
   "outputs": [],
   "source": [
    "from sklearn.model_selection import train_test_split\n",
    "from sklearn.neighbors import KNeighborsClassifier\n",
    "from sklearn.metrics import accuracy_score"
   ]
  },
  {
   "cell_type": "code",
   "execution_count": null,
   "metadata": {},
   "outputs": [],
   "source": [
    "feed2_train,feed2_test,clas_train,clas_test = train_test_split(feed2,clas,test_size = 0.6,random_state = 4)"
   ]
  },
  {
   "cell_type": "code",
   "execution_count": null,
   "metadata": {},
   "outputs": [],
   "source": [
    "feed2_train= feed2_train.reshape(-1, 1)\n",
    "clas_train= clas_train.reshape(-1, 1)\n",
    "feed2_test = feed2_test.reshape(-1, 1)"
   ]
  },
  {
   "cell_type": "code",
   "execution_count": null,
   "metadata": {},
   "outputs": [],
   "source": [
    "def make_knn_prediction(k):\n",
    "    neigh = KNeighborsClassifier(n_neighbors = k)\n",
    "    neigh.fit(feed2_train,clas_train.ravel())\n",
    "    clas_pred = neigh.predict(feed2_test)\n",
    "    return clas_pred"
   ]
  },
  {
   "cell_type": "code",
   "execution_count": null,
   "metadata": {},
   "outputs": [],
   "source": [
    "#print(make_knn_prediction(6))\n",
    "#print(clas_test)"
   ]
  },
  {
   "cell_type": "code",
   "execution_count": null,
   "metadata": {},
   "outputs": [],
   "source": [
    "performance = []\n",
    "perform1 =[]\n",
    "for i in range(1,10):\n",
    "    a = make_knn_prediction(i)\n",
    "    performance.append(a)\n",
    "    for j in performance:\n",
    "        b = accuracy_score(clas_test,j)\n",
    "    perform1.append(b)\n",
    "fig, axes = plt.subplots()\n",
    "axes.plot(perform1)\n",
    "#axes.set_ylim([0.85,1])\n",
    "plt.title(\"Iris Classification Accuracy of KNN for Different Values of k\")\n",
    "plt.ylabel(\"Test Accuracy\")\n",
    "plt.xlabel(\"Value of k\");\n",
    "plt.grid(color='grey', linestyle='--', linewidth=0.5)\n",
    "print(np.mean(perform1))"
   ]
  }
 ],
 "metadata": {
  "kernelspec": {
   "display_name": "Python 3",
   "language": "python",
   "name": "python3"
  },
  "language_info": {
   "codemirror_mode": {
    "name": "ipython",
    "version": 3
   },
   "file_extension": ".py",
   "mimetype": "text/x-python",
   "name": "python",
   "nbconvert_exporter": "python",
   "pygments_lexer": "ipython3",
   "version": "3.8.5"
  }
 },
 "nbformat": 4,
 "nbformat_minor": 4
}
