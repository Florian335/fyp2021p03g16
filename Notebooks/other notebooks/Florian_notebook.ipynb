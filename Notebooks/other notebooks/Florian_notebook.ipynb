{
 "cells": [
  {
   "cell_type": "code",
   "execution_count": 6,
   "metadata": {},
   "outputs": [],
   "source": [
    "import pandas as pd\n",
    "import numpy as np\n",
    "from  matplotlib import pyplot as plt\n",
    "import matplotlib.image as mpimg\n",
    "import os\n",
    "import random"
   ]
  },
  {
   "cell_type": "code",
   "execution_count": 113,
   "metadata": {},
   "outputs": [
    {
     "name": "stdout",
     "output_type": "stream",
     "text": [
      "[[[137 125 109]\n",
      "  [138 124 111]\n",
      "  [140 126 115]\n",
      "  ...\n",
      "  [138 113  93]\n",
      "  [136 111  91]\n",
      "  [136 110  93]]\n",
      "\n",
      " [[136 124 108]\n",
      "  [138 125 109]\n",
      "  [139 125 112]\n",
      "  ...\n",
      "  [134 111  93]\n",
      "  [136 110  93]\n",
      "  [136 110  93]]\n",
      "\n",
      " [[138 125 109]\n",
      "  [138 125 109]\n",
      "  [136 123 107]\n",
      "  ...\n",
      "  [136 110  93]\n",
      "  [136 110  93]\n",
      "  [136 110  93]]\n",
      "\n",
      " ...\n",
      "\n",
      " [[138 111  90]\n",
      "  [137 110  89]\n",
      "  [138 111  92]\n",
      "  ...\n",
      "  [141 118 102]\n",
      "  [140 117 101]\n",
      "  [141 118 104]]\n",
      "\n",
      " [[137 112  90]\n",
      "  [138 111  92]\n",
      "  [138 111  94]\n",
      "  ...\n",
      "  [142 119 103]\n",
      "  [140 117 101]\n",
      "  [140 117 101]]\n",
      "\n",
      " [[136 114  93]\n",
      "  [137 111  94]\n",
      "  [139 112  95]\n",
      "  ...\n",
      "  [142 119 103]\n",
      "  [141 118 102]\n",
      "  [140 117  99]]]\n"
     ]
    },
    {
     "data": {
      "text/plain": [
       "<Figure size 1440x720 with 0 Axes>"
      ]
     },
     "metadata": {},
     "output_type": "display_data"
    }
   ],
   "source": [
    "plt.figure(figsize=(20,10))\n",
    "test_folder='../../data/raw/example_image/'\n",
    "file = os.listdir(test_folder)\n",
    "image_path= os.path.join(test_folder,file[2])\n",
    "img=plt.imread(image_path)\n",
    "print(img)\n",
    "#for i in file[1:5]:\n",
    "#    image_path= os.path.join(test_folder,i)\n",
    "#    img=plt.imread(image_path)\n",
    "#    ax = plt.subplots()\n",
    "#    plt.imshow(img);"
   ]
  },
  {
   "cell_type": "code",
   "execution_count": null,
   "metadata": {},
   "outputs": [],
   "source": []
  }
 ],
 "metadata": {
  "kernelspec": {
   "display_name": "Python 3",
   "language": "python",
   "name": "python3"
  },
  "language_info": {
   "codemirror_mode": {
    "name": "ipython",
    "version": 3
   },
   "file_extension": ".py",
   "mimetype": "text/x-python",
   "name": "python",
   "nbconvert_exporter": "python",
   "pygments_lexer": "ipython3",
   "version": "3.8.5"
  }
 },
 "nbformat": 4,
 "nbformat_minor": 4
}
