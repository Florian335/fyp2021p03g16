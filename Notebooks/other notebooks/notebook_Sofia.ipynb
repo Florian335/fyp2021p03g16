{
 "cells": [
  {
   "cell_type": "markdown",
   "metadata": {},
   "source": [
    "# Project 3: 'Image Analysis'\n",
    "## First Year Project  \n",
    "### ITU, Spring 2021"
   ]
  },
  {
   "cell_type": "markdown",
   "metadata": {},
   "source": [
    "This notebook contains all the code developed to explore, wrangle and analyse the raw data sets for our project, 'Image Analysis'.\n",
    "\n",
    "Contributors:  \n",
    "- Andy Bao Nguyen (anbn)\n",
    "- Florian Micliuc (flmi)\n",
    "- Mattias Wohlert \n",
    "- Sofia Elena Terenziani (sote)\n",
    "\n",
    "Created: 06-04-2021 \n",
    "\n",
    "Last modified:"
   ]
  },
  {
   "cell_type": "markdown",
   "metadata": {},
   "source": [
    "### Imports"
   ]
  },
  {
   "cell_type": "code",
   "execution_count": 40,
   "metadata": {},
   "outputs": [],
   "source": [
    "import numpy as np\n",
    "import pandas as pd\n",
    "import matplotlib.pyplot as plt\n",
    "import matplotlib.cm as cm\n",
    "from skimage import morphology\n",
    "from scipy.spatial.distance import cdist\n",
    "from scipy.stats.stats import mode\n",
    "\n",
    "import pandas as pd\n",
    "import numpy as np\n",
    "from  matplotlib import pyplot as plt\n",
    "import matplotlib.image as mpimg\n",
    "import os\n",
    "import random\n",
    "import cv2\n",
    "import PIL\n",
    "from PIL import Image"
   ]
  },
  {
   "cell_type": "markdown",
   "metadata": {},
   "source": [
    "### Constants"
   ]
  },
  {
   "cell_type": "code",
   "execution_count": 41,
   "metadata": {},
   "outputs": [],
   "source": [
    "path_images = '../../data/raw/example_image'\n",
    "path_masks = '../../data/raw/example_segmentation'\n",
    "\n",
    "file_data = '../../data/raw/example_ground_truth.csv'\n",
    "file_features = '../../data/features/features.csv'"
   ]
  },
  {
   "cell_type": "markdown",
   "metadata": {},
   "source": [
    "### Import raw data "
   ]
  },
  {
   "cell_type": "code",
   "execution_count": 3,
   "metadata": {},
   "outputs": [],
   "source": [
    "df_file_data = pd.read_csv(file_data)\n",
    "df_file_features = pd.read_csv(file_features)"
   ]
  },
  {
   "cell_type": "code",
   "execution_count": 4,
   "metadata": {},
   "outputs": [],
   "source": [
    "num_images = len(df_file_data['image_id'])"
   ]
  },
  {
   "cell_type": "code",
   "execution_count": null,
   "metadata": {},
   "outputs": [],
   "source": [
    "#import images"
   ]
  },
  {
   "cell_type": "markdown",
   "metadata": {},
   "source": [
    "## Task 0: Data Exploration "
   ]
  },
  {
   "cell_type": "code",
   "execution_count": 45,
   "metadata": {},
   "outputs": [],
   "source": [
    "# Extract image IDs and labels from the data\n",
    "image_id = list(df_file_data['image_id'])\n",
    "is_melanoma = np.array(df_file_data['melanoma'])\n",
    "is_keratosis = np.array(df_file_data['seborrheic_keratosis'])"
   ]
  },
  {
   "cell_type": "code",
   "execution_count": null,
   "metadata": {},
   "outputs": [],
   "source": [
    "#merging the datasets \n",
    "#metadata = pd.DataFrame(dataraw[\"metadata\"])\n",
    "#features = pd.DataFrame(dataraw[\"features\"])\n",
    "#merged_data = metadata.merge(features, left_on = [\"image_id\"], right_on = [\"id\"])\n",
    "#merged_data = merged_data.drop([\"id\"], axis =1)\n",
    "#print(merged_data)"
   ]
  },
  {
   "cell_type": "code",
   "execution_count": null,
   "metadata": {},
   "outputs": [],
   "source": [
    "#mask \n",
    "#melanoma = (is_melanoma == 1.0) & (merged_data[\"seborrheic_keratosis\"] == 0.0)\n",
    "#mask_keratosis = (merged_data[\"melanoma\"] == 0.0) & (merged_data[\"seborrheic_keratosis\"] == 1.0)\n",
    "#mask_none = (merged_data[\"melanoma\"] == 0.0) & (merged_data[\"seborrheic_keratosis\"] == 0.0)\n",
    "\n",
    "#merged_melanoma = merged_data[mask_melanoma]\n",
    "#merged_keratosis = merged_data[mask_keratosis]\n",
    "#merged_none = merged_data[mask_none]"
   ]
  },
  {
   "cell_type": "code",
   "execution_count": null,
   "metadata": {},
   "outputs": [],
   "source": [
    "#images id and actual images lists \n",
    "#melanoma_images_id = [i for i in merged_melanoma[\"image_id\"]]\n",
    "#keratosis_images_id = [i for i in merged_keratosis[\"image_id\"]]\n",
    "#none_images_id = [i for i in merged_none[\"image_id\"]]\n",
    "\n",
    "#melanoma_images = [i for i in dataraw[\"images_filename\"] for j in melanoma_images_id if j in i]\n",
    "#keratosis_images = [i for i in dataraw[\"images_filename\"] for j in keratosis_images_id if j in i]\n",
    "#none_images = [i for i in dataraw[\"images_filename\"] for j in none_images_id if j in i]"
   ]
  },
  {
   "cell_type": "markdown",
   "metadata": {},
   "source": [
    "## Task 1: Implement two features "
   ]
  },
  {
   "cell_type": "code",
   "execution_count": null,
   "metadata": {},
   "outputs": [],
   "source": [
    "#Make empty arrays to store features\n",
    "features_area = np.empty([num_images,1])\n",
    "features_area[:] = np.nan\n",
    "features_perimeter = np.empty([num_images,1])\n",
    "features_perimeter[:] = np.nan"
   ]
  },
  {
   "cell_type": "code",
   "execution_count": null,
   "metadata": {},
   "outputs": [],
   "source": [
    "features_symmetry = np.empty([num_images,1])\n",
    "features_area[:] = np.nan"
   ]
  },
  {
   "cell_type": "markdown",
   "metadata": {},
   "source": [
    "### Perimiter "
   ]
  },
  {
   "cell_type": "code",
   "execution_count": null,
   "metadata": {},
   "outputs": [],
   "source": [
    "def measure_area_perimeter(mask):\n",
    "    # Measure area: the sum of all white pixels in the mask image\n",
    "    area = np.sum(mask)\n",
    "\n",
    "    # Measure perimeter: first find which pixels belong to the perimeter.\n",
    "    struct_el = morphology.disk(1)\n",
    "    mask_eroded = morphology.binary_erosion(mask, struct_el)\n",
    "    image_perimeter = mask - mask_eroded\n",
    "\n",
    "    # Now we have the perimeter image, the sum of all white pixels in it\n",
    "    perimeter = np.sum(image_perimeter)\n",
    "\n",
    "    return area, perimeter"
   ]
  },
  {
   "cell_type": "code",
   "execution_count": null,
   "metadata": {},
   "outputs": [],
   "source": [
    "for i in np.arange(num_images):\n",
    "    # Define filenames related to this image\n",
    "    file_image = path_images + os.sep + image_id[i] + '.jpg'\n",
    "    file_mask = path_masks + os.sep + image_id[i] + '_segmentation.png'\n",
    "    \n",
    "    # Read the images with these filenames\n",
    "    im = plt.imread(file_image)\n",
    "    mask = plt.imread(file_mask)\n",
    "    # Measure features (custom made function)\n",
    "    im = plt.imread(file_image)\n",
    "    mask = plt.imread(file_mask)\n",
    "    a, p = measure_area_perimeter(mask)\n",
    "    \n",
    "    # Store in the variables we created before\n",
    "    features_area[i,0] = a\n",
    "    features_perimeter[i,0] = p"
   ]
  },
  {
   "cell_type": "markdown",
   "metadata": {},
   "source": [
    "### Symmetry"
   ]
  },
  {
   "cell_type": "code",
   "execution_count": 42,
   "metadata": {},
   "outputs": [],
   "source": [
    "def symmetry(im): \n",
    "    #Read image\n",
    "    im = plt.imread(im)\n",
    "    \n",
    "    #Crop the picture\n",
    "    #Center of the shape is the center of the image\n",
    "    #The borders of the shape are the borders of the image\n",
    "    y_nonzero, x_nonzero = np.nonzero(im)\n",
    "    im = im[np.min(y_nonzero):np.max(y_nonzero), np.min(x_nonzero):np.max(x_nonzero)]\n",
    "    \n",
    "    #Cut the image in halves \n",
    "    #Find the point of cutoff\n",
    "    height, width = im.shape\n",
    "    width_cutoff = width // 2\n",
    "    height_cutoff = height // 2\n",
    "    \n",
    "    #Cut the image vertically and horizontally in two \n",
    "    imVertical1 = im[:, :width_cutoff]\n",
    "    imVertical2 = im[:, width_cutoff:]\n",
    "    imHorizontal1 = im[:height_cutoff, :]\n",
    "    imHorizontal2 = im[height_cutoff:, :]\n",
    "    \n",
    "    #Flip image \n",
    "    #Interting one of the images both vertically and horizontally   \n",
    "    indexerVertical = [slice(None)] * imVertical2.ndim\n",
    "    indexerHorizontal = [slice(None)] * imHorizontal2.ndim\n",
    "    indexerVertical[1] = slice(None, None, -1)\n",
    "    indexerHorizontal[0] = slice(None, None, -1) \n",
    "    imVertical2 = imVertical2[tuple(indexerVertical)]\n",
    "    imHorizontal2 = imHorizontal2[tuple(indexerHorizontal)]\n",
    "\n",
    "    #Cut the biggest image, if the images don't have the same shape \n",
    "    #This can happen if the shape of the original shape was an odd number \n",
    "    imVertical2 = imVertical2[0:imVertical1.shape[0], 0:imVertical1.shape[1]]\n",
    "    imHorizontal2 = imHorizontal2[0:imHorizontal1.shape[0], 0:imHorizontal1.shape[1]]\n",
    "\n",
    "    img_bwxVertical = cv2.bitwise_xor(imVertical1,imVertical2)\n",
    "    img_bwxHorizontal = cv2.bitwise_xor(imHorizontal1,imHorizontal2)\n",
    "    \n",
    "    areaVertical = np.sum(img_bwxVertical == 1)\n",
    "    areaHorizontal = np.sum(img_bwxHorizontal == 1)\n",
    "    \n",
    "    res = (areaVertical + areaHorizontal) / 2\n",
    "    return res "
   ]
  },
  {
   "cell_type": "code",
   "execution_count": 43,
   "metadata": {},
   "outputs": [
    {
     "name": "stdout",
     "output_type": "stream",
     "text": [
      "85668.5\n",
      "434.0\n"
     ]
    }
   ],
   "source": [
    "print(symmetry('../../Data/raw/example_segmentation/ISIC_0014624_segmentation.png'))\n",
    "print(symmetry('../../Data/raw/circ_mask.png'))"
   ]
  },
  {
   "cell_type": "code",
   "execution_count": 46,
   "metadata": {},
   "outputs": [
    {
     "ename": "ValueError",
     "evalue": "fname must be a PathLike or file handle",
     "output_type": "error",
     "traceback": [
      "\u001b[0;31m---------------------------------------------------------------------------\u001b[0m",
      "\u001b[0;31mValueError\u001b[0m                                Traceback (most recent call last)",
      "\u001b[0;32m<ipython-input-46-399b314969df>\u001b[0m in \u001b[0;36m<module>\u001b[0;34m\u001b[0m\n\u001b[1;32m      8\u001b[0m     \u001b[0mmask\u001b[0m \u001b[0;34m=\u001b[0m \u001b[0mplt\u001b[0m\u001b[0;34m.\u001b[0m\u001b[0mimread\u001b[0m\u001b[0;34m(\u001b[0m\u001b[0mfile_mask\u001b[0m\u001b[0;34m)\u001b[0m\u001b[0;34m\u001b[0m\u001b[0;34m\u001b[0m\u001b[0m\n\u001b[1;32m      9\u001b[0m     \u001b[0;31m# Measure features (custom made function)\u001b[0m\u001b[0;34m\u001b[0m\u001b[0;34m\u001b[0m\u001b[0;34m\u001b[0m\u001b[0m\n\u001b[0;32m---> 10\u001b[0;31m     \u001b[0msymmetry\u001b[0m \u001b[0;34m=\u001b[0m \u001b[0msymmetry\u001b[0m\u001b[0;34m(\u001b[0m\u001b[0mim\u001b[0m\u001b[0;34m)\u001b[0m\u001b[0;34m\u001b[0m\u001b[0;34m\u001b[0m\u001b[0m\n\u001b[0m\u001b[1;32m     11\u001b[0m \u001b[0;34m\u001b[0m\u001b[0m\n\u001b[1;32m     12\u001b[0m     \u001b[0;31m# Store in the variables we created before\u001b[0m\u001b[0;34m\u001b[0m\u001b[0;34m\u001b[0m\u001b[0;34m\u001b[0m\u001b[0m\n",
      "\u001b[0;32m<ipython-input-42-96d597fc3f8e>\u001b[0m in \u001b[0;36msymmetry\u001b[0;34m(im)\u001b[0m\n\u001b[1;32m      1\u001b[0m \u001b[0;32mdef\u001b[0m \u001b[0msymmetry\u001b[0m\u001b[0;34m(\u001b[0m\u001b[0mim\u001b[0m\u001b[0;34m)\u001b[0m\u001b[0;34m:\u001b[0m\u001b[0;34m\u001b[0m\u001b[0;34m\u001b[0m\u001b[0m\n\u001b[1;32m      2\u001b[0m     \u001b[0;31m#Read image\u001b[0m\u001b[0;34m\u001b[0m\u001b[0;34m\u001b[0m\u001b[0;34m\u001b[0m\u001b[0m\n\u001b[0;32m----> 3\u001b[0;31m     \u001b[0mim\u001b[0m \u001b[0;34m=\u001b[0m \u001b[0mplt\u001b[0m\u001b[0;34m.\u001b[0m\u001b[0mimread\u001b[0m\u001b[0;34m(\u001b[0m\u001b[0mim\u001b[0m\u001b[0;34m)\u001b[0m\u001b[0;34m\u001b[0m\u001b[0;34m\u001b[0m\u001b[0m\n\u001b[0m\u001b[1;32m      4\u001b[0m \u001b[0;34m\u001b[0m\u001b[0m\n\u001b[1;32m      5\u001b[0m     \u001b[0;31m#Crop the picture\u001b[0m\u001b[0;34m\u001b[0m\u001b[0;34m\u001b[0m\u001b[0;34m\u001b[0m\u001b[0m\n",
      "\u001b[0;32m~/opt/anaconda3/lib/python3.8/site-packages/matplotlib/pyplot.py\u001b[0m in \u001b[0;36mimread\u001b[0;34m(fname, format)\u001b[0m\n\u001b[1;32m   2059\u001b[0m \u001b[0;34m@\u001b[0m\u001b[0mdocstring\u001b[0m\u001b[0;34m.\u001b[0m\u001b[0mcopy\u001b[0m\u001b[0;34m(\u001b[0m\u001b[0mmatplotlib\u001b[0m\u001b[0;34m.\u001b[0m\u001b[0mimage\u001b[0m\u001b[0;34m.\u001b[0m\u001b[0mimread\u001b[0m\u001b[0;34m)\u001b[0m\u001b[0;34m\u001b[0m\u001b[0;34m\u001b[0m\u001b[0m\n\u001b[1;32m   2060\u001b[0m \u001b[0;32mdef\u001b[0m \u001b[0mimread\u001b[0m\u001b[0;34m(\u001b[0m\u001b[0mfname\u001b[0m\u001b[0;34m,\u001b[0m \u001b[0mformat\u001b[0m\u001b[0;34m=\u001b[0m\u001b[0;32mNone\u001b[0m\u001b[0;34m)\u001b[0m\u001b[0;34m:\u001b[0m\u001b[0;34m\u001b[0m\u001b[0;34m\u001b[0m\u001b[0m\n\u001b[0;32m-> 2061\u001b[0;31m     \u001b[0;32mreturn\u001b[0m \u001b[0mmatplotlib\u001b[0m\u001b[0;34m.\u001b[0m\u001b[0mimage\u001b[0m\u001b[0;34m.\u001b[0m\u001b[0mimread\u001b[0m\u001b[0;34m(\u001b[0m\u001b[0mfname\u001b[0m\u001b[0;34m,\u001b[0m \u001b[0mformat\u001b[0m\u001b[0;34m)\u001b[0m\u001b[0;34m\u001b[0m\u001b[0;34m\u001b[0m\u001b[0m\n\u001b[0m\u001b[1;32m   2062\u001b[0m \u001b[0;34m\u001b[0m\u001b[0m\n\u001b[1;32m   2063\u001b[0m \u001b[0;34m\u001b[0m\u001b[0m\n",
      "\u001b[0;32m~/opt/anaconda3/lib/python3.8/site-packages/matplotlib/image.py\u001b[0m in \u001b[0;36mimread\u001b[0;34m(fname, format)\u001b[0m\n\u001b[1;32m   1472\u001b[0m             \u001b[0mfd\u001b[0m \u001b[0;34m=\u001b[0m \u001b[0mBytesIO\u001b[0m\u001b[0;34m(\u001b[0m\u001b[0mrequest\u001b[0m\u001b[0;34m.\u001b[0m\u001b[0murlopen\u001b[0m\u001b[0;34m(\u001b[0m\u001b[0mfname\u001b[0m\u001b[0;34m)\u001b[0m\u001b[0;34m.\u001b[0m\u001b[0mread\u001b[0m\u001b[0;34m(\u001b[0m\u001b[0;34m)\u001b[0m\u001b[0;34m)\u001b[0m\u001b[0;34m\u001b[0m\u001b[0;34m\u001b[0m\u001b[0m\n\u001b[1;32m   1473\u001b[0m             \u001b[0;32mreturn\u001b[0m \u001b[0m_png\u001b[0m\u001b[0;34m.\u001b[0m\u001b[0mread_png\u001b[0m\u001b[0;34m(\u001b[0m\u001b[0mfd\u001b[0m\u001b[0;34m)\u001b[0m\u001b[0;34m\u001b[0m\u001b[0;34m\u001b[0m\u001b[0m\n\u001b[0;32m-> 1474\u001b[0;31m     \u001b[0;32mwith\u001b[0m \u001b[0mcbook\u001b[0m\u001b[0;34m.\u001b[0m\u001b[0mopen_file_cm\u001b[0m\u001b[0;34m(\u001b[0m\u001b[0mfname\u001b[0m\u001b[0;34m,\u001b[0m \u001b[0;34m\"rb\"\u001b[0m\u001b[0;34m)\u001b[0m \u001b[0;32mas\u001b[0m \u001b[0mfile\u001b[0m\u001b[0;34m:\u001b[0m\u001b[0;34m\u001b[0m\u001b[0;34m\u001b[0m\u001b[0m\n\u001b[0m\u001b[1;32m   1475\u001b[0m         \u001b[0;32mreturn\u001b[0m \u001b[0m_png\u001b[0m\u001b[0;34m.\u001b[0m\u001b[0mread_png\u001b[0m\u001b[0;34m(\u001b[0m\u001b[0mfile\u001b[0m\u001b[0;34m)\u001b[0m\u001b[0;34m\u001b[0m\u001b[0;34m\u001b[0m\u001b[0m\n\u001b[1;32m   1476\u001b[0m \u001b[0;34m\u001b[0m\u001b[0m\n",
      "\u001b[0;32m~/opt/anaconda3/lib/python3.8/contextlib.py\u001b[0m in \u001b[0;36m__enter__\u001b[0;34m(self)\u001b[0m\n\u001b[1;32m    111\u001b[0m         \u001b[0;32mdel\u001b[0m \u001b[0mself\u001b[0m\u001b[0;34m.\u001b[0m\u001b[0margs\u001b[0m\u001b[0;34m,\u001b[0m \u001b[0mself\u001b[0m\u001b[0;34m.\u001b[0m\u001b[0mkwds\u001b[0m\u001b[0;34m,\u001b[0m \u001b[0mself\u001b[0m\u001b[0;34m.\u001b[0m\u001b[0mfunc\u001b[0m\u001b[0;34m\u001b[0m\u001b[0;34m\u001b[0m\u001b[0m\n\u001b[1;32m    112\u001b[0m         \u001b[0;32mtry\u001b[0m\u001b[0;34m:\u001b[0m\u001b[0;34m\u001b[0m\u001b[0;34m\u001b[0m\u001b[0m\n\u001b[0;32m--> 113\u001b[0;31m             \u001b[0;32mreturn\u001b[0m \u001b[0mnext\u001b[0m\u001b[0;34m(\u001b[0m\u001b[0mself\u001b[0m\u001b[0;34m.\u001b[0m\u001b[0mgen\u001b[0m\u001b[0;34m)\u001b[0m\u001b[0;34m\u001b[0m\u001b[0;34m\u001b[0m\u001b[0m\n\u001b[0m\u001b[1;32m    114\u001b[0m         \u001b[0;32mexcept\u001b[0m \u001b[0mStopIteration\u001b[0m\u001b[0;34m:\u001b[0m\u001b[0;34m\u001b[0m\u001b[0;34m\u001b[0m\u001b[0m\n\u001b[1;32m    115\u001b[0m             \u001b[0;32mraise\u001b[0m \u001b[0mRuntimeError\u001b[0m\u001b[0;34m(\u001b[0m\u001b[0;34m\"generator didn't yield\"\u001b[0m\u001b[0;34m)\u001b[0m \u001b[0;32mfrom\u001b[0m \u001b[0;32mNone\u001b[0m\u001b[0;34m\u001b[0m\u001b[0;34m\u001b[0m\u001b[0m\n",
      "\u001b[0;32m~/opt/anaconda3/lib/python3.8/site-packages/matplotlib/cbook/__init__.py\u001b[0m in \u001b[0;36mopen_file_cm\u001b[0;34m(path_or_file, mode, encoding)\u001b[0m\n\u001b[1;32m    416\u001b[0m \u001b[0;32mdef\u001b[0m \u001b[0mopen_file_cm\u001b[0m\u001b[0;34m(\u001b[0m\u001b[0mpath_or_file\u001b[0m\u001b[0;34m,\u001b[0m \u001b[0mmode\u001b[0m\u001b[0;34m=\u001b[0m\u001b[0;34m\"r\"\u001b[0m\u001b[0;34m,\u001b[0m \u001b[0mencoding\u001b[0m\u001b[0;34m=\u001b[0m\u001b[0;32mNone\u001b[0m\u001b[0;34m)\u001b[0m\u001b[0;34m:\u001b[0m\u001b[0;34m\u001b[0m\u001b[0;34m\u001b[0m\u001b[0m\n\u001b[1;32m    417\u001b[0m     \u001b[0;34mr\"\"\"Pass through file objects and context-manage `.PathLike`\\s.\"\"\"\u001b[0m\u001b[0;34m\u001b[0m\u001b[0;34m\u001b[0m\u001b[0m\n\u001b[0;32m--> 418\u001b[0;31m     \u001b[0mfh\u001b[0m\u001b[0;34m,\u001b[0m \u001b[0mopened\u001b[0m \u001b[0;34m=\u001b[0m \u001b[0mto_filehandle\u001b[0m\u001b[0;34m(\u001b[0m\u001b[0mpath_or_file\u001b[0m\u001b[0;34m,\u001b[0m \u001b[0mmode\u001b[0m\u001b[0;34m,\u001b[0m \u001b[0;32mTrue\u001b[0m\u001b[0;34m,\u001b[0m \u001b[0mencoding\u001b[0m\u001b[0;34m)\u001b[0m\u001b[0;34m\u001b[0m\u001b[0;34m\u001b[0m\u001b[0m\n\u001b[0m\u001b[1;32m    419\u001b[0m     \u001b[0;32mif\u001b[0m \u001b[0mopened\u001b[0m\u001b[0;34m:\u001b[0m\u001b[0;34m\u001b[0m\u001b[0;34m\u001b[0m\u001b[0m\n\u001b[1;32m    420\u001b[0m         \u001b[0;32mwith\u001b[0m \u001b[0mfh\u001b[0m\u001b[0;34m:\u001b[0m\u001b[0;34m\u001b[0m\u001b[0;34m\u001b[0m\u001b[0m\n",
      "\u001b[0;32m~/opt/anaconda3/lib/python3.8/site-packages/matplotlib/cbook/__init__.py\u001b[0m in \u001b[0;36mto_filehandle\u001b[0;34m(fname, flag, return_opened, encoding)\u001b[0m\n\u001b[1;32m    407\u001b[0m         \u001b[0mopened\u001b[0m \u001b[0;34m=\u001b[0m \u001b[0;32mFalse\u001b[0m\u001b[0;34m\u001b[0m\u001b[0;34m\u001b[0m\u001b[0m\n\u001b[1;32m    408\u001b[0m     \u001b[0;32melse\u001b[0m\u001b[0;34m:\u001b[0m\u001b[0;34m\u001b[0m\u001b[0;34m\u001b[0m\u001b[0m\n\u001b[0;32m--> 409\u001b[0;31m         \u001b[0;32mraise\u001b[0m \u001b[0mValueError\u001b[0m\u001b[0;34m(\u001b[0m\u001b[0;34m'fname must be a PathLike or file handle'\u001b[0m\u001b[0;34m)\u001b[0m\u001b[0;34m\u001b[0m\u001b[0;34m\u001b[0m\u001b[0m\n\u001b[0m\u001b[1;32m    410\u001b[0m     \u001b[0;32mif\u001b[0m \u001b[0mreturn_opened\u001b[0m\u001b[0;34m:\u001b[0m\u001b[0;34m\u001b[0m\u001b[0;34m\u001b[0m\u001b[0m\n\u001b[1;32m    411\u001b[0m         \u001b[0;32mreturn\u001b[0m \u001b[0mfh\u001b[0m\u001b[0;34m,\u001b[0m \u001b[0mopened\u001b[0m\u001b[0;34m\u001b[0m\u001b[0;34m\u001b[0m\u001b[0m\n",
      "\u001b[0;31mValueError\u001b[0m: fname must be a PathLike or file handle"
     ]
    }
   ],
   "source": [
    "#NOT DONE YET!\n",
    "for i in np.arange(num_images):\n",
    "    # Define filenames related to this image\n",
    "    file_image = path_images + os.sep + image_id[i] + '.jpg'\n",
    "    file_mask = path_masks + os.sep + image_id[i] + '_segmentation.png'\n",
    "    \n",
    "    # Read the images with these filenames\n",
    "    im = plt.imread(file_image)\n",
    "    mask = plt.imread(file_mask)\n",
    "    # Measure features (custom made function)\n",
    "    symmetry = symmetry(im)\n",
    "    \n",
    "    # Store in the variables we created before\n",
    "    features_symmetry[i,0] = symmetry"
   ]
  },
  {
   "cell_type": "code",
   "execution_count": null,
   "metadata": {},
   "outputs": [],
   "source": [
    "#This is another way of doing it \n",
    "#img_bwa = cv2.bitwise_and(s1,flipped_vertical)\n",
    "#img_bwo = cv2.bitwise_or(s1,flipped_vertical)\n",
    "#img_bwx = cv2.bitwise_xor(s1,flipped_vertical)\n",
    "\n",
    "#cv2.imshow(\"Bitwise AND of Image 1 and 2\", img_bwa)\n",
    "#cv2.imshow(\"Bitwise OR of Image 1 and 2\", img_bwo)\n",
    "#plt.imshow(img_bwx, cmap='gray')\n",
    "#number_of_white_pix_im = np.sum(img_bwx == 1)\n",
    "#print(number_of_white_pix_im)"
   ]
  },
  {
   "cell_type": "code",
   "execution_count": null,
   "metadata": {},
   "outputs": [],
   "source": [
    "#Find symmetric difference \n",
    "#Compute intersection and union of the two images both vertically and horizontally \n",
    "#intersectionVertical = cv2.bitwise_and(imVertical1,imVertical2)\n",
    "#intersectionHorizontal = cv2.bitwise_and(imHorizontal1,imHorizontal2)\n",
    "#unionVertical = cv2.bitwise_or(imVertical1,imVertical2)\n",
    "#unionHorizontal = cv2.bitwise_or(imHorizontal1,imHorizontal2)\n",
    "#Count the number of non zero for both intersection and union \n",
    "#symmetry_vertical = cv2.countNonZero(intersectionVertical) - cv2.countNonZero(unionVertical)\n",
    "#symmetry_horizontal = cv2.countNonZero(intersectionHorizontal)/cv2.countNonZero(unionHorizontal)\n",
    "    \n",
    "#Symmetric difference \n",
    "#symmetry = (symmetry_vertical + symmetry_horizontal) / 2"
   ]
  },
  {
   "cell_type": "markdown",
   "metadata": {},
   "source": [
    "#### Example"
   ]
  },
  {
   "cell_type": "code",
   "execution_count": 47,
   "metadata": {},
   "outputs": [
    {
     "data": {
      "text/plain": [
       "<matplotlib.image.AxesImage at 0x7ffde8ee6760>"
      ]
     },
     "execution_count": 47,
     "metadata": {},
     "output_type": "execute_result"
    },
    {
     "data": {
      "image/png": "[encoded data removed]",
      "text/plain": [
       "<Figure size 432x288 with 1 Axes>"
      ]
     },
     "metadata": {
      "needs_background": "light"
     },
     "output_type": "display_data"
    }
   ],
   "source": [
    "image_mask = plt.imread('../../Data/raw/example_segmentation/ISIC_0014624_segmentation.png')\n",
    "plt.imshow(image_mask, cmap='gray')\n",
    "\n",
    "#im = plt.imread(\"../../Data/raw/example_image/ISIC_0014624.jpg\")\n",
    "#plt.imshow(im)"
   ]
  },
  {
   "cell_type": "markdown",
   "metadata": {},
   "source": [
    "https://stackoverflow.com/questions/62970301/testing-for-asymetry-image"
   ]
  },
  {
   "cell_type": "code",
   "execution_count": 48,
   "metadata": {},
   "outputs": [
    {
     "data": {
      "text/plain": [
       "array([[0., 0., 0., ..., 0., 0., 0.],\n",
       "       [0., 0., 0., ..., 0., 0., 0.],\n",
       "       [0., 0., 0., ..., 0., 0., 0.],\n",
       "       ...,\n",
       "       [0., 0., 0., ..., 0., 0., 0.],\n",
       "       [0., 0., 0., ..., 0., 0., 0.],\n",
       "       [0., 0., 0., ..., 0., 0., 0.]], dtype=float32)"
      ]
     },
     "execution_count": 48,
     "metadata": {},
     "output_type": "execute_result"
    },
    {
     "data": {
      "image/png": "[encoded data removed]",
      "text/plain": [
       "<Figure size 432x288 with 1 Axes>"
      ]
     },
     "metadata": {
      "needs_background": "light"
     },
     "output_type": "display_data"
    }
   ],
   "source": [
    "#Function to crop images \n",
    "def crop(image):\n",
    "    y_nonzero, x_nonzero = np.nonzero(image)\n",
    "    return image[np.min(y_nonzero):np.max(y_nonzero), np.min(x_nonzero):np.max(x_nonzero)]\n",
    "image_mask2 = crop(image_mask)\n",
    "plt.imshow(image_mask2, cmap='gray')\n",
    "image_mask2"
   ]
  },
  {
   "cell_type": "code",
   "execution_count": 49,
   "metadata": {},
   "outputs": [
    {
     "data": {
      "text/plain": [
       "<matplotlib.image.AxesImage at 0x7ffde94878b0>"
      ]
     },
     "execution_count": 49,
     "metadata": {},
     "output_type": "execute_result"
    },
    {
     "data": {
      "image/png": "[encoded data removed]",
      "text/plain": [
       "<Figure size 720x720 with 4 Axes>"
      ]
     },
     "metadata": {
      "needs_background": "light"
     },
     "output_type": "display_data"
    }
   ],
   "source": [
    "from PIL import Image\n",
    "height, width = image_mask2.shape\n",
    "\n",
    "# Cut the image in half\n",
    "#If shape of image is a flot, it must be interpreded as integer, as the slice indices must be integers  \n",
    "\n",
    "width_cutoff = width // 2\n",
    "height_cutoff = height // 2\n",
    "\n",
    "s1 = image_mask2[:, :width_cutoff]\n",
    "s2 = image_mask2[:, width_cutoff:]\n",
    "s3 = image_mask2[:height_cutoff, :]\n",
    "s4 = image_mask2[height_cutoff:, :]\n",
    "\n",
    "fig, axes = plt.subplots(2, 2, figsize =(10,10))\n",
    "axes[0,0].imshow(s1, cmap='gray')\n",
    "axes[0,1].imshow(s2, cmap='gray')\n",
    "axes[1,0].imshow(s3, cmap='gray')\n",
    "axes[1,1].imshow(s4, cmap='gray')"
   ]
  },
  {
   "cell_type": "code",
   "execution_count": 50,
   "metadata": {},
   "outputs": [],
   "source": [
    "def flip(m, axis):\n",
    "    indexer = [slice(None)] * m.ndim\n",
    "    indexer[axis] = slice(None, None, -1)\n",
    "    return m[tuple(indexer)]"
   ]
  },
  {
   "cell_type": "code",
   "execution_count": 54,
   "metadata": {},
   "outputs": [
    {
     "data": {
      "text/plain": [
       "<matplotlib.image.AxesImage at 0x7ffde8cc8af0>"
      ]
     },
     "execution_count": 54,
     "metadata": {},
     "output_type": "execute_result"
    },
    {
     "data": {
      "image/png": "[encoded data removed]",
      "text/plain": [
       "<Figure size 720x720 with 4 Axes>"
      ]
     },
     "metadata": {
      "needs_background": "light"
     },
     "output_type": "display_data"
    }
   ],
   "source": [
    "flipped_vertical = flip(s2, 1)\n",
    "flipped_horizontal = flip(s4, 0)\n",
    "\n",
    "fig, axes = plt.subplots(2, 2, figsize =(10,10))\n",
    "axes[0,0].imshow(s1, cmap='gray')\n",
    "axes[0,1].imshow(flipped_vertical, cmap='gray')\n",
    "axes[1,0].imshow(s3, cmap='gray')\n",
    "axes[1,1].imshow(flipped_horizontal, cmap='gray')"
   ]
  },
  {
   "cell_type": "code",
   "execution_count": 61,
   "metadata": {},
   "outputs": [],
   "source": [
    "#change shape\n",
    "flipped_vertical = flipped_vertical[0:s1.shape[0], 0:s1.shape[1]]\n",
    "flipped_horizontal = flipped_horizontal[0:s3.shape[0], 0:s3.shape[1]]"
   ]
  },
  {
   "cell_type": "code",
   "execution_count": 65,
   "metadata": {},
   "outputs": [
    {
     "data": {
      "text/plain": [
       "<matplotlib.image.AxesImage at 0x7ffde96b8400>"
      ]
     },
     "execution_count": 65,
     "metadata": {},
     "output_type": "execute_result"
    },
    {
     "data": {
      "image/png": "[encoded data removed]",
      "text/plain": [
       "<Figure size 720x720 with 2 Axes>"
      ]
     },
     "metadata": {
      "needs_background": "light"
     },
     "output_type": "display_data"
    }
   ],
   "source": [
    "#img_bwa = cv2.bitwise_and(s1,flipped_vertical)\n",
    "#img_bwo = cv2.bitwise_or(s1,flipped_vertical)\n",
    "img_bwx = cv2.bitwise_xor(s1,flipped_vertical)\n",
    "img_bwx2 = cv2.bitwise_xor(s3,flipped_horizontal)\n",
    "\n",
    "#cv2.imshow(\"Bitwise AND of Image 1 and 2\", img_bwa)\n",
    "#cv2.imshow(\"Bitwise OR of Image 1 and 2\", img_bwo)\n",
    "\n",
    "fig, axes = plt.subplots(1, 2, figsize =(10,10))\n",
    "axes[0].imshow(img_bwx, cmap='gray')\n",
    "axes[1].imshow(img_bwx2, cmap='gray')"
   ]
  },
  {
   "cell_type": "code",
   "execution_count": 73,
   "metadata": {},
   "outputs": [
    {
     "name": "stdout",
     "output_type": "stream",
     "text": [
      "60716\n",
      "110621\n",
      "85668.5\n"
     ]
    }
   ],
   "source": [
    "areaAsymmetryVertical = np.sum(img_bwx == 1)\n",
    "areaAsymmetryHorizontal = np.sum(img_bwx2 == 1)\n",
    "\n",
    "print(areaAsymmetryVertical)\n",
    "print(areaAsymmetryHorizontal)\n",
    "\n",
    "symmetry_all = (areaAsymmetryVertical + areaAsymmetryHorizontal) / 2\n",
    "print(symmetry_all)"
   ]
  },
  {
   "cell_type": "code",
   "execution_count": 25,
   "metadata": {},
   "outputs": [],
   "source": [
    "image_mask_circle = plt.imread('../../Data/raw/circ_mask.png')\n",
    "image_mask_circle = crop(image_mask_circle)"
   ]
  },
  {
   "cell_type": "code",
   "execution_count": 28,
   "metadata": {},
   "outputs": [
    {
     "data": {
      "text/plain": [
       "<matplotlib.image.AxesImage at 0x7ffe054cdd90>"
      ]
     },
     "execution_count": 28,
     "metadata": {},
     "output_type": "execute_result"
    },
    {
     "data": {
      "image/png": "[encoded data removed]",
      "text/plain": [
       "<Figure size 720x720 with 2 Axes>"
      ]
     },
     "metadata": {
      "needs_background": "light"
     },
     "output_type": "display_data"
    }
   ],
   "source": [
    "from PIL import Image\n",
    "height, width = image_mask_circle.shape\n",
    "\n",
    "# Cut the image in half\n",
    "#If shape of image is a flot, it must be interpreded as integer, as the slice indices must be integers  \n",
    "\n",
    "width_cutoff = width // 2\n",
    "\n",
    "s1_cir = image_mask_circle[:, :width_cutoff]\n",
    "s2_cir = image_mask_circle[:, width_cutoff:]\n",
    "    \n",
    "\n",
    "fig, axes = plt.subplots(1, 2, figsize =(10,10))\n",
    "axes[0].imshow(s1_cir, cmap='gray')\n",
    "axes[1].imshow(s2_cir, cmap='gray')"
   ]
  },
  {
   "cell_type": "code",
   "execution_count": 29,
   "metadata": {},
   "outputs": [
    {
     "data": {
      "text/plain": [
       "<matplotlib.image.AxesImage at 0x7ffe055cb520>"
      ]
     },
     "execution_count": 29,
     "metadata": {},
     "output_type": "execute_result"
    },
    {
     "data": {
      "image/png": "[encoded data removed]",
      "text/plain": [
       "<Figure size 432x288 with 1 Axes>"
      ]
     },
     "metadata": {
      "needs_background": "light"
     },
     "output_type": "display_data"
    }
   ],
   "source": [
    "flipped_cir = flip(s2_cir, 1)\n",
    "plt.imshow(flipped_cir, cmap='gray')"
   ]
  },
  {
   "cell_type": "code",
   "execution_count": 30,
   "metadata": {},
   "outputs": [
    {
     "data": {
      "text/plain": [
       "<matplotlib.image.AxesImage at 0x7ffe055dc520>"
      ]
     },
     "execution_count": 30,
     "metadata": {},
     "output_type": "execute_result"
    },
    {
     "data": {
      "image/png": "[encoded data removed]",
      "text/plain": [
       "<Figure size 720x720 with 2 Axes>"
      ]
     },
     "metadata": {
      "needs_background": "light"
     },
     "output_type": "display_data"
    }
   ],
   "source": [
    "fig, axes = plt.subplots(1, 2, figsize =(10,10))\n",
    "axes[0].imshow(s1_cir, cmap='gray')\n",
    "axes[1].imshow(flipped_cir, cmap='gray')"
   ]
  },
  {
   "cell_type": "code",
   "execution_count": null,
   "metadata": {},
   "outputs": [],
   "source": [
    "LR = TestSymmetry(s1_cir, flipped_cir)\n",
    "print(LR)"
   ]
  },
  {
   "cell_type": "code",
   "execution_count": 31,
   "metadata": {},
   "outputs": [
    {
     "name": "stdout",
     "output_type": "stream",
     "text": [
      "494\n"
     ]
    },
    {
     "data": {
      "image/png": "[encoded data removed]",
      "text/plain": [
       "<Figure size 432x288 with 1 Axes>"
      ]
     },
     "metadata": {
      "needs_background": "light"
     },
     "output_type": "display_data"
    }
   ],
   "source": [
    "#img_bwa = cv2.bitwise_and(s1,flipped_vertical)\n",
    "#img_bwo = cv2.bitwise_or(s1,flipped_vertical)\n",
    "img_bwx = cv2.bitwise_xor(s1_cir,flipped_cir)\n",
    "\n",
    "#cv2.imshow(\"Bitwise AND of Image 1 and 2\", img_bwa)\n",
    "#cv2.imshow(\"Bitwise OR of Image 1 and 2\", img_bwo)\n",
    "plt.imshow(img_bwx, cmap='gray')\n",
    "number_of_white_pix_im = np.sum(img_bwx == 1)\n",
    "print(number_of_white_pix_im)\n",
    "#cv2.waitKey(0)\n",
    "#cv2.destroyAllWindows()"
   ]
  },
  {
   "cell_type": "markdown",
   "metadata": {},
   "source": [
    "### Results: Perimiter "
   ]
  },
  {
   "cell_type": "code",
   "execution_count": null,
   "metadata": {},
   "outputs": [],
   "source": [
    "feature_data = {\"id\": image_id, \n",
    "                \"area\": features_area.flatten(),\n",
    "                \"perimeter\": features_perimeter.flatten()\n",
    "                }\n",
    "\n",
    "df_features = pd.DataFrame(feature_data)\n",
    "df_features.to_csv(file_features, index=False)   "
   ]
  },
  {
   "cell_type": "code",
   "execution_count": null,
   "metadata": {},
   "outputs": [],
   "source": [
    "# Load the data you saved, then do some analysis\n",
    "df_features = pd.read_csv(file_features)\n",
    "image_id = list(df_features['id'])\n",
    "features_area = np.array(df_features['area'])\n",
    "features_perimeter = np.array(df_features['perimeter'])"
   ]
  },
  {
   "cell_type": "code",
   "execution_count": null,
   "metadata": {},
   "outputs": [],
   "source": [
    "def scatter_data(x1, x2, y, ax=None):\n",
    "    # scatter_data displays a scatterplot of featuress x1 and x2, and gives each point\n",
    "    # a different color based on its label in y\n",
    "\n",
    "    class_labels, indices1, indices2 = np.unique(y, return_index=True, return_inverse=True)\n",
    "    if ax is None:\n",
    "        fig = plt.figure(figsize=(8, 8))\n",
    "        ax = fig.add_subplot(111)\n",
    "        ax.grid()\n",
    "\n",
    "    colors = cm.rainbow(np.linspace(0, 1, len(class_labels)))\n",
    "    for i, c in zip(np.arange(len(class_labels)), colors):\n",
    "        idx2 = indices2 == class_labels[i]\n",
    "        lbl = 'Class ' + str(i)\n",
    "        ax.scatter(x1[idx2], x2[idx2], color=c, label=lbl)\n",
    "\n",
    "    return ax"
   ]
  },
  {
   "cell_type": "code",
   "execution_count": null,
   "metadata": {},
   "outputs": [],
   "source": [
    "# Display the features measured in a scatterplot\n",
    "axs = scatter_data(features_area, features_perimeter, is_keratosis)\n",
    "axs.set_xlabel('X1 = Area')\n",
    "axs.set_ylabel('X2 = Perimeter')\n",
    "axs.legend()"
   ]
  },
  {
   "cell_type": "markdown",
   "metadata": {},
   "source": [
    "### Loading raw data"
   ]
  },
  {
   "cell_type": "code",
   "execution_count": null,
   "metadata": {},
   "outputs": [],
   "source": [
    "def load_images_from_folder(folder):\n",
    "    images = []\n",
    "    valid_images = [\".jpg\"]\n",
    "    for filename in os.listdir(folder):\n",
    "        ext = os.path.splitext(filename)[1]\n",
    "        if ext.lower() not in valid_images:\n",
    "            continue\n",
    "        img = cv2.imread(os.path.join(folder,filename))\n",
    "        if img is not None:\n",
    "            images.append(img)\n",
    "    return images\n",
    "\n",
    "def images_id_from_folder(folder): \n",
    "    valid_images = [\".jpg\"]\n",
    "    onlyfiles = []\n",
    "    for filename in os.listdir(folder): \n",
    "        ext = os.path.splitext(filename)[1]\n",
    "        if ext.lower() not in valid_images:\n",
    "            continue\n",
    "        if os.path.isfile(os.path.join(folder, filename)): \n",
    "            onlyfiles.append(filename)\n",
    "    return onlyfiles"
   ]
  },
  {
   "cell_type": "code",
   "execution_count": null,
   "metadata": {},
   "outputs": [],
   "source": [
    "dataraw = {} \n",
    "dataraw[\"metadata\"] = pd.read_csv(PATH[\"data_raw\"]+FILENAME[\"metadata\"])\n",
    "dataraw[\"features\"] = pd.read_csv(PATH[\"images_features\"]+FILENAME[\"images_features\"])\n",
    "dataraw[\"images\"] = load_images_from_folder(PATH[\"images\"])\n",
    "dataraw[\"images_filename\"] = images_id_from_folder(PATH[\"images\"])"
   ]
  },
  {
   "cell_type": "markdown",
   "metadata": {},
   "source": [
    "## Task 0: Explore the data"
   ]
  },
  {
   "cell_type": "code",
   "execution_count": null,
   "metadata": {},
   "outputs": [],
   "source": [
    "#merging the datasets \n",
    "metadata = pd.DataFrame(dataraw[\"metadata\"])\n",
    "features = pd.DataFrame(dataraw[\"features\"])\n",
    "merged_data = metadata.merge(features, left_on = [\"image_id\"], right_on = [\"id\"])\n",
    "merged_data = merged_data.drop([\"id\"], axis =1)\n",
    "print(merged_data)"
   ]
  },
  {
   "cell_type": "code",
   "execution_count": null,
   "metadata": {},
   "outputs": [],
   "source": [
    "#mask \n",
    "mask_melanoma = (merged_data[\"melanoma\"] == 1.0) & (merged_data[\"seborrheic_keratosis\"] == 0.0)\n",
    "mask_keratosis = (merged_data[\"melanoma\"] == 0.0) & (merged_data[\"seborrheic_keratosis\"] == 1.0)\n",
    "mask_none = (merged_data[\"melanoma\"] == 0.0) & (merged_data[\"seborrheic_keratosis\"] == 0.0)\n",
    "\n",
    "merged_melanoma = merged_data[mask_melanoma]\n",
    "merged_keratosis = merged_data[mask_keratosis]\n",
    "merged_none = merged_data[mask_none]\n"
   ]
  },
  {
   "cell_type": "code",
   "execution_count": null,
   "metadata": {},
   "outputs": [],
   "source": [
    "#images id and actual images lists \n",
    "melanoma_images_id = [i for i in merged_melanoma[\"image_id\"]]\n",
    "keratosis_images_id = [i for i in merged_keratosis[\"image_id\"]]\n",
    "none_images_id = [i for i in merged_none[\"image_id\"]]\n",
    "\n",
    "melanoma_images = [i for i in dataraw[\"images_filename\"] for j in melanoma_images_id if j in i]\n",
    "keratosis_images = [i for i in dataraw[\"images_filename\"] for j in keratosis_images_id if j in i]\n",
    "none_images = [i for i in dataraw[\"images_filename\"] for j in none_images_id if j in i]"
   ]
  },
  {
   "cell_type": "markdown",
   "metadata": {},
   "source": [
    "NB!    \n",
    "Only run the next cell once!     \n",
    "Check interim, if pictures are already sorted, it means that the function has been called "
   ]
  },
  {
   "cell_type": "code",
   "execution_count": null,
   "metadata": {},
   "outputs": [],
   "source": [
    "#NB!!!! Only \n",
    "from shutil import copyfile\n",
    "\n",
    "subfolder1 = os.path.join(PATH[\"data_interim\"], \"melanoma_images\")\n",
    "subfolder2 = os.path.join(PATH[\"data_interim\"], \"keratosis_images\")\n",
    "subfolder3 = os.path.join(PATH[\"data_interim\"], \"none_images\")\n",
    "\n",
    "if not os.path.exists(subfolder1):\n",
    "    os.makedirs(subfolder1)\n",
    "\n",
    "if not os.path.exists(subfolder2):\n",
    "    os.makedirs(subfolder2)\n",
    "    \n",
    "if not os.path.exists(subfolder3):\n",
    "    os.makedirs(subfolder3)\n",
    "    \n",
    "for i in melanoma_images:\n",
    "    source = os.path.join(PATH[\"images\"], i)\n",
    "    destination = os.path.join(subfolder1, i)\n",
    "    copyfile(source, destination)\n",
    "    \n",
    "for i in keratosis_images:\n",
    "    source = os.path.join(PATH[\"images\"], i)\n",
    "    destination = os.path.join(subfolder2, i)\n",
    "    copyfile(source, destination)\n",
    "\n",
    "for i in none_images: \n",
    "    source = os.path.join(PATH[\"images\"], i)\n",
    "    destination = os.path.join(subfolder3, i)\n",
    "    copyfile(source, destination)"
   ]
  }
 ],
 "metadata": {
  "kernelspec": {
   "display_name": "Python 3",
   "language": "python",
   "name": "python3"
  },
  "language_info": {
   "codemirror_mode": {
    "name": "ipython",
    "version": 3
   },
   "file_extension": ".py",
   "mimetype": "text/x-python",
   "name": "python",
   "nbconvert_exporter": "python",
   "pygments_lexer": "ipython3",
   "version": "3.8.3"
  }
 },
 "nbformat": 4,
 "nbformat_minor": 4
}
