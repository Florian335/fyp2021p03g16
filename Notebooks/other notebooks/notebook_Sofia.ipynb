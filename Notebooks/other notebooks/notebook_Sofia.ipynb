{
 "cells": [
  {
   "cell_type": "markdown",
   "metadata": {},
   "source": [
    "# Project 3: 'Image Analysis'\n",
    "## First Year Project  \n",
    "### ITU, Spring 2021"
   ]
  },
  {
   "cell_type": "markdown",
   "metadata": {},
   "source": [
    "This notebook contains all the code developed to explore, wrangle and analyse the raw data sets for our project, 'Image Analysis'.\n",
    "\n",
    "Contributors:  \n",
    "- Andy Bao Nguyen (anbn)\n",
    "- Florian Micliuc (flmi)\n",
    "- Mattias Wohlert \n",
    "- Sofia Elena Terenziani (sote)\n",
    "\n",
    "Created: 06-04-2021 \n",
    "\n",
    "Last modified:"
   ]
  },
  {
   "cell_type": "markdown",
   "metadata": {},
   "source": [
    "### Imports"
   ]
  },
  {
   "cell_type": "code",
   "execution_count": 3,
   "metadata": {},
   "outputs": [],
   "source": [
    "import numpy as np\n",
    "import pandas as pd\n",
    "import matplotlib.pyplot as plt\n",
    "import os\n",
    "import matplotlib.cm as cm\n",
    "from skimage import morphology\n",
    "from scipy.spatial.distance import cdist\n",
    "from scipy.stats.stats import mode\n",
    "from sklearn.model_selection import StratifiedShuffleSplit\n",
    "from sklearn.metrics import accuracy_score"
   ]
  },
  {
   "cell_type": "code",
   "execution_count": 4,
   "metadata": {},
   "outputs": [],
   "source": [
    "%run ../fyp2021p3_group00_functions.py"
   ]
  },
  {
   "cell_type": "markdown",
   "metadata": {},
   "source": [
    "## ? Inspection of data"
   ]
  },
  {
   "cell_type": "code",
   "execution_count": 15,
   "metadata": {},
   "outputs": [],
   "source": [
    "#We are using Micheals implementation from 'Lecture 1'\n",
    "PATH = {}\n",
    "PATH[\"data_raw\"] = \"../data/raw/\"\n",
    "PATH[\"data_interim\"] = \"../data/interim/\"\n",
    "PATH[\"data_processed\"] = \"../data/processed/\"\n",
    "PATH[\"data_external\"] = \"../data/external/\"\n",
    "\n",
    "PATH[\"images\"] = \"../data/raw/example_images\"\n",
    "PATH[\"segmentations\"] = \"../data/raw/example_segmentation\"\n",
    "PATH[\"images_features\"] = \"../features/\"\n",
    "\n",
    "FILENAME = {}\n",
    "FILENAME[\"metadata\"] = \"example_ground_truth.csv\"\n",
    "FILENAME[\"images_features\"] = \"features.csv\""
   ]
  },
  {
   "cell_type": "code",
   "execution_count": 77,
   "metadata": {},
   "outputs": [],
   "source": [
    "dataraw = {} \n",
    "dataraw[\"metadata\"] = pd.read_csv(PATH[\"data_raw\"]+FILENAME[\"metadata\"])\n",
    "dataraw[\"features\"] = pd.read_csv(PATH[\"images_features\"]+FILENAME[\"images_features\"])"
   ]
  },
  {
   "cell_type": "code",
   "execution_count": 114,
   "metadata": {},
   "outputs": [
    {
     "name": "stdout",
     "output_type": "stream",
     "text": [
      "         image_id  melanoma  seborrheic_keratosis        area  perimeter\n",
      "0    ISIC_0001769       0.0                   0.0    216160.0     2013.0\n",
      "1    ISIC_0001852       0.0                   0.0    130493.0     1372.0\n",
      "2    ISIC_0001871       0.0                   0.0    205116.0     1720.0\n",
      "3    ISIC_0003462       0.0                   0.0    161705.0     1344.0\n",
      "4    ISIC_0003539       0.0                   0.0    317040.0     2063.0\n",
      "..            ...       ...                   ...         ...        ...\n",
      "145  ISIC_0015443       0.0                   0.0   9732988.0    13775.0\n",
      "146  ISIC_0015445       0.0                   0.0  12049938.0    19517.0\n",
      "147  ISIC_0015483       0.0                   0.0   8856478.0    13813.0\n",
      "148  ISIC_0015496       0.0                   0.0   8951522.0    13742.0\n",
      "149  ISIC_0015627       0.0                   0.0   3193093.0     8751.0\n",
      "\n",
      "[150 rows x 5 columns]\n"
     ]
    }
   ],
   "source": [
    "#merge datasets \n",
    "metadata = pd.DataFrame(dataraw[\"metadata\"])\n",
    "features = pd.DataFrame(dataraw[\"features\"])\n",
    "merged = metadata_pf.merge(features_pf, left_on = [\"image_id\"], right_on = [\"id\"])\n",
    "merged = merged.drop([\"id\"], axis = 1)\n",
    "print(merged)"
   ]
  },
  {
   "cell_type": "code",
   "execution_count": 115,
   "metadata": {},
   "outputs": [],
   "source": [
    "#list of images splittet into skin desease\n",
    "mask_melanoma = (merged[\"melanoma\"] == 1.0) & (merged[\"seborrheic_keratosis\"] == 0.0)\n",
    "mask_keratosis = (merged[\"melanoma\"] == 0.0) & (merged[\"seborrheic_keratosis\"] == 1.0)\n",
    "mask_none = (merged[\"melanoma\"] == 0.0) & (merged[\"seborrheic_keratosis\"] == 0.0)\n",
    "\n",
    "merged_melanoma = merged[mask_melanoma]\n",
    "merged_keratosis = merged[mask_keratosis]\n",
    "merged_none = merged[mask_none]\n",
    "\n",
    "melanoma_images_id = [i for i in merged_melanoma[\"image_id\"]]\n",
    "keratosis_images_id = [i for i in merged_keratosis[\"image_id\"]]\n",
    "none_images_id = [i for i in merged_none[\"image_id\"]]\n"
   ]
  },
  {
   "cell_type": "markdown",
   "metadata": {},
   "source": [
    "## Task 0: Explore the data"
   ]
  },
  {
   "cell_type": "code",
   "execution_count": null,
   "metadata": {},
   "outputs": [],
   "source": []
  },
  {
   "cell_type": "code",
   "execution_count": null,
   "metadata": {},
   "outputs": [],
   "source": []
  },
  {
   "cell_type": "code",
   "execution_count": null,
   "metadata": {},
   "outputs": [],
   "source": []
  },
  {
   "cell_type": "code",
   "execution_count": null,
   "metadata": {},
   "outputs": [],
   "source": []
  },
  {
   "cell_type": "code",
   "execution_count": null,
   "metadata": {},
   "outputs": [],
   "source": []
  },
  {
   "cell_type": "code",
   "execution_count": null,
   "metadata": {},
   "outputs": [],
   "source": []
  },
  {
   "cell_type": "code",
   "execution_count": null,
   "metadata": {},
   "outputs": [],
   "source": []
  },
  {
   "cell_type": "code",
   "execution_count": null,
   "metadata": {},
   "outputs": [],
   "source": []
  },
  {
   "cell_type": "code",
   "execution_count": null,
   "metadata": {},
   "outputs": [],
   "source": []
  },
  {
   "cell_type": "code",
   "execution_count": null,
   "metadata": {},
   "outputs": [],
   "source": []
  },
  {
   "cell_type": "code",
   "execution_count": null,
   "metadata": {},
   "outputs": [],
   "source": []
  },
  {
   "cell_type": "code",
   "execution_count": null,
   "metadata": {},
   "outputs": [],
   "source": []
  },
  {
   "cell_type": "code",
   "execution_count": null,
   "metadata": {},
   "outputs": [],
   "source": []
  },
  {
   "cell_type": "code",
   "execution_count": null,
   "metadata": {},
   "outputs": [],
   "source": []
  },
  {
   "cell_type": "code",
   "execution_count": null,
   "metadata": {},
   "outputs": [],
   "source": []
  },
  {
   "cell_type": "code",
   "execution_count": null,
   "metadata": {},
   "outputs": [],
   "source": []
  },
  {
   "cell_type": "code",
   "execution_count": null,
   "metadata": {},
   "outputs": [],
   "source": []
  },
  {
   "cell_type": "code",
   "execution_count": null,
   "metadata": {},
   "outputs": [],
   "source": []
  },
  {
   "cell_type": "code",
   "execution_count": null,
   "metadata": {},
   "outputs": [],
   "source": []
  },
  {
   "cell_type": "code",
   "execution_count": null,
   "metadata": {},
   "outputs": [],
   "source": []
  },
  {
   "cell_type": "code",
   "execution_count": null,
   "metadata": {},
   "outputs": [],
   "source": []
  },
  {
   "cell_type": "code",
   "execution_count": null,
   "metadata": {},
   "outputs": [],
   "source": []
  },
  {
   "cell_type": "code",
   "execution_count": null,
   "metadata": {},
   "outputs": [],
   "source": []
  }
 ],
 "metadata": {
  "kernelspec": {
   "display_name": "Python 3",
   "language": "python",
   "name": "python3"
  },
  "language_info": {
   "codemirror_mode": {
    "name": "ipython",
    "version": 3
   },
   "file_extension": ".py",
   "mimetype": "text/x-python",
   "name": "python",
   "nbconvert_exporter": "python",
   "pygments_lexer": "ipython3",
   "version": "3.8.3"
  }
 },
 "nbformat": 4,
 "nbformat_minor": 4
}
