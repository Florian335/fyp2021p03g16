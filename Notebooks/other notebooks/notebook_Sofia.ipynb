{
 "cells": [
  {
   "cell_type": "markdown",
   "metadata": {},
   "source": [
    "# Project 3: 'Image Analysis'\n",
    "## First Year Project  \n",
    "### ITU, Spring 2021"
   ]
  },
  {
   "cell_type": "markdown",
   "metadata": {},
   "source": [
    "This notebook contains all the code developed to explore, wrangle and analyse the raw data sets for our project, 'Image Analysis'.\n",
    "\n",
    "Contributors:  \n",
    "- Andy Bao Nguyen (anbn)\n",
    "- Florian Micliuc (flmi)\n",
    "- Mattias Wohlert \n",
    "- Sofia Elena Terenziani (sote)\n",
    "\n",
    "Created: 06-04-2021 \n",
    "\n",
    "Last modified:"
   ]
  },
  {
   "cell_type": "markdown",
   "metadata": {},
   "source": [
    "### Imports"
   ]
  },
  {
   "cell_type": "code",
   "execution_count": 1,
   "metadata": {},
   "outputs": [],
   "source": [
    "import pandas as pd\n",
    "import numpy as np\n",
    "from  matplotlib import pyplot as plt\n",
    "import matplotlib.image as mpimg\n",
    "import os\n",
    "import random\n",
    "import cv2"
   ]
  },
  {
   "cell_type": "markdown",
   "metadata": {},
   "source": [
    "### Constants"
   ]
  },
  {
   "cell_type": "code",
   "execution_count": 2,
   "metadata": {},
   "outputs": [],
   "source": [
    "#We are using Micheals implementation from 'Lecture 1'\n",
    "PATH = {}\n",
    "PATH[\"data_raw\"] = \"../../data/raw/\"\n",
    "PATH[\"data_interim\"] = \"../../data/interim/\"\n",
    "PATH[\"data_processed\"] = \"../../data/processed/\"\n",
    "PATH[\"data_external\"] = \"../../data/external/\"\n",
    "\n",
    "PATH[\"images\"] = \"../../data/Raw/example_image\"\n",
    "PATH[\"images_segmentations\"] = \"../../data/raw/example_segmentation\"\n",
    "PATH[\"images_features\"] = \"../../data/features/\"\n",
    "\n",
    "FILENAME = {}\n",
    "FILENAME[\"metadata\"] = \"example_ground_truth.csv\"\n",
    "FILENAME[\"images_features\"] = \"features.csv\""
   ]
  },
  {
   "cell_type": "markdown",
   "metadata": {},
   "source": [
    "### Loading raw data"
   ]
  },
  {
   "cell_type": "code",
   "execution_count": 3,
   "metadata": {},
   "outputs": [],
   "source": [
    "def load_images_from_folder(folder):\n",
    "    images = []\n",
    "    valid_images = [\".jpg\"]\n",
    "    for filename in os.listdir(folder):\n",
    "        ext = os.path.splitext(filename)[1]\n",
    "        if ext.lower() not in valid_images:\n",
    "            continue\n",
    "        img = cv2.imread(os.path.join(folder,filename))\n",
    "        if img is not None:\n",
    "            images.append(img)\n",
    "    return images\n",
    "\n",
    "def images_id_from_folder(folder): \n",
    "    valid_images = [\".jpg\"]\n",
    "    onlyfiles = []\n",
    "    for filename in os.listdir(folder): \n",
    "        ext = os.path.splitext(filename)[1]\n",
    "        if ext.lower() not in valid_images:\n",
    "            continue\n",
    "        if os.path.isfile(os.path.join(folder, filename)): \n",
    "            onlyfiles.append(filename)\n",
    "    return onlyfiles"
   ]
  },
  {
   "cell_type": "code",
   "execution_count": 4,
   "metadata": {},
   "outputs": [],
   "source": [
    "dataraw = {} \n",
    "dataraw[\"metadata\"] = pd.read_csv(PATH[\"data_raw\"]+FILENAME[\"metadata\"])\n",
    "dataraw[\"features\"] = pd.read_csv(PATH[\"images_features\"]+FILENAME[\"images_features\"])\n",
    "dataraw[\"images\"] = load_images_from_folder(PATH[\"images\"])\n",
    "dataraw[\"images_filename\"] = images_id_from_folder(PATH[\"images\"])"
   ]
  },
  {
   "cell_type": "markdown",
   "metadata": {},
   "source": [
    "## Task 0: Explore the data"
   ]
  },
  {
   "cell_type": "code",
   "execution_count": 5,
   "metadata": {},
   "outputs": [
    {
     "name": "stdout",
     "output_type": "stream",
     "text": [
      "         image_id  melanoma  seborrheic_keratosis        area  perimeter\n",
      "0    ISIC_0001769       0.0                   0.0    216160.0     2013.0\n",
      "1    ISIC_0001852       0.0                   0.0    130493.0     1372.0\n",
      "2    ISIC_0001871       0.0                   0.0    205116.0     1720.0\n",
      "3    ISIC_0003462       0.0                   0.0    161705.0     1344.0\n",
      "4    ISIC_0003539       0.0                   0.0    317040.0     2063.0\n",
      "..            ...       ...                   ...         ...        ...\n",
      "145  ISIC_0015443       0.0                   0.0   9732988.0    13775.0\n",
      "146  ISIC_0015445       0.0                   0.0  12049938.0    19517.0\n",
      "147  ISIC_0015483       0.0                   0.0   8856478.0    13813.0\n",
      "148  ISIC_0015496       0.0                   0.0   8951522.0    13742.0\n",
      "149  ISIC_0015627       0.0                   0.0   3193093.0     8751.0\n",
      "\n",
      "[150 rows x 5 columns]\n"
     ]
    }
   ],
   "source": [
    "#merging the datasets \n",
    "metadata = pd.DataFrame(dataraw[\"metadata\"])\n",
    "features = pd.DataFrame(dataraw[\"features\"])\n",
    "merged_data = metadata.merge(features, left_on = [\"image_id\"], right_on = [\"id\"])\n",
    "merged_data = merged_data.drop([\"id\"], axis =1)\n",
    "print(merged_data)"
   ]
  },
  {
   "cell_type": "code",
   "execution_count": 6,
   "metadata": {},
   "outputs": [],
   "source": [
    "#mask \n",
    "mask_melanoma = (merged_data[\"melanoma\"] == 1.0) & (merged_data[\"seborrheic_keratosis\"] == 0.0)\n",
    "mask_keratosis = (merged_data[\"melanoma\"] == 0.0) & (merged_data[\"seborrheic_keratosis\"] == 1.0)\n",
    "mask_none = (merged_data[\"melanoma\"] == 0.0) & (merged_data[\"seborrheic_keratosis\"] == 0.0)\n",
    "\n",
    "merged_melanoma = merged_data[mask_melanoma]\n",
    "merged_keratosis = merged_data[mask_keratosis]\n",
    "merged_none = merged_data[mask_none]\n"
   ]
  },
  {
   "cell_type": "code",
   "execution_count": 8,
   "metadata": {},
   "outputs": [],
   "source": [
    "#images id and actual images lists \n",
    "melanoma_images_id = [i for i in merged_melanoma[\"image_id\"]]\n",
    "keratosis_images_id = [i for i in merged_keratosis[\"image_id\"]]\n",
    "none_images_id = [i for i in merged_none[\"image_id\"]]\n",
    "\n",
    "melanoma_images = [i for i in dataraw[\"images_filename\"] for j in melanoma_images_id if j in i]\n",
    "keratosis_images = [i for i in dataraw[\"images_filename\"] for j in keratosis_images_id if j in i]\n",
    "none_images = [i for i in dataraw[\"images_filename\"] for j in none_images_id if j in i]"
   ]
  },
  {
   "cell_type": "code",
   "execution_count": null,
   "metadata": {},
   "outputs": [],
   "source": [
    "#NB!!!! Only \n",
    "from shutil import copyfile\n",
    "\n",
    "subfolder1 = os.path.join(PATH[\"data_interim\"], \"melanoma_images\")\n",
    "subfolder2 = os.path.join(PATH[\"data_interim\"], \"keratosis_images\")\n",
    "subfolder3 = os.path.join(PATH[\"data_interim\"], \"none_images\")\n",
    "\n",
    "if not os.path.exists(subfolder1):\n",
    "    os.makedirs(subfolder1)\n",
    "\n",
    "if not os.path.exists(subfolder2):\n",
    "    os.makedirs(subfolder2)\n",
    "    \n",
    "if not os.path.exists(subfolder3):\n",
    "    os.makedirs(subfolder3)\n",
    "    \n",
    "for i in melanoma_images:\n",
    "    source = os.path.join(PATH[\"images\"], i)\n",
    "    destination = os.path.join(subfolder1, i)\n",
    "    copyfile(source, destination)\n",
    "    \n",
    "for i in keratosis_images:\n",
    "    source = os.path.join(PATH[\"images\"], i)\n",
    "    destination = os.path.join(subfolder2, i)\n",
    "    copyfile(source, destination)\n",
    "\n",
    "for i in none_images: \n",
    "    source = os.path.join(PATH[\"images\"], i)\n",
    "    destination = os.path.join(subfolder3, i)\n",
    "    copyfile(source, destination)"
   ]
  },
  {
   "cell_type": "markdown",
   "metadata": {},
   "source": [
    "## Task 0: Explore the data"
   ]
  },
  {
   "cell_type": "code",
   "execution_count": 10,
   "metadata": {},
   "outputs": [
    {
     "name": "stdout",
     "output_type": "stream",
     "text": [
      "ISIC_0015372.jpg\n",
      "ISIC_0004337.jpg\n",
      "ISIC_0008524.jpg\n",
      "ISIC_0013104.jpg\n",
      "ISIC_0012965.jpg\n",
      "ISIC_0015401.jpg\n",
      "ISIC_0003539.jpg\n",
      "ISIC_0012191.jpg\n",
      "ISIC_0015211.jpg\n",
      "ISIC_0001852.jpg\n",
      "ISIC_0009995.jpg\n",
      "ISIC_0003462.jpg\n",
      "ISIC_0012547.jpg\n",
      "ISIC_0012221.jpg\n",
      "ISIC_0006651.jpg\n",
      "ISIC_0012746.jpg\n",
      "ISIC_0006914.jpg\n",
      "ISIC_0013128.jpg\n",
      "ISIC_0012222.jpg\n",
      "ISIC_0012126.jpg\n",
      "ISIC_0013562.jpg\n",
      "ISIC_0012127.jpg\n",
      "ISIC_0007528.jpg\n",
      "ISIC_0013561.jpg\n",
      "ISIC_0014178.jpg\n",
      "ISIC_0015313.jpg\n",
      "ISIC_0013010.jpg\n",
      "ISIC_0012256.jpg\n",
      "ISIC_0014829.jpg\n",
      "ISIC_0008025.jpg\n",
      "ISIC_0012684.jpg\n",
      "ISIC_0006815.jpg\n",
      "ISIC_0012109.jpg\n",
      "ISIC_0012335.jpg\n",
      "ISIC_0012876.jpg\n",
      "ISIC_0013188.jpg\n",
      "ISIC_0014989.jpg\n",
      "ISIC_0001769.jpg\n",
      "ISIC_0012660.jpg\n",
      "ISIC_0014211.jpg\n",
      "ISIC_0015443.jpg\n",
      "ISIC_0012306.jpg\n",
      "ISIC_0015496.jpg\n",
      "ISIC_0010459.jpg\n",
      "ISIC_0007332.jpg\n",
      "ISIC_0015483.jpg\n",
      "ISIC_0014945.jpg\n",
      "ISIC_0012313.jpg\n",
      "ISIC_0003805.jpg\n",
      "ISIC_0012538.jpg\n",
      "ISIC_0003582.jpg\n",
      "ISIC_0012316.jpg\n",
      "ISIC_0015445.jpg\n",
      "ISIC_0013793.jpg\n",
      "ISIC_0007241.jpg\n",
      "ISIC_0015043.jpg\n",
      "ISIC_0014162.jpg\n",
      "ISIC_0012400.jpg\n",
      "ISIC_0001871.jpg\n",
      "ISIC_0012206.jpg\n",
      "ISIC_0015144.jpg\n",
      "ISIC_0012159.jpg\n",
      "ISIC_0007344.jpg\n",
      "ISIC_0013132.jpg\n",
      "ISIC_0013898.jpg\n",
      "ISIC_0007796.jpg\n",
      "ISIC_0007235.jpg\n",
      "ISIC_0006671.jpg\n",
      "ISIC_0012201.jpg\n",
      "ISIC_0007156.jpg\n",
      "ISIC_0012956.jpg\n",
      "ISIC_0013527.jpg\n",
      "ISIC_0014937.jpg\n",
      "ISIC_0013082.jpg\n",
      "ISIC_0007141.jpg\n",
      "ISIC_0003657.jpg\n",
      "ISIC_0012160.jpg\n",
      "ISIC_0015627.jpg\n"
     ]
    }
   ],
   "source": [
    "for i in benign_images: \n",
    "    print(i)"
   ]
  },
  {
   "cell_type": "code",
   "execution_count": null,
   "metadata": {},
   "outputs": [],
   "source": []
  },
  {
   "cell_type": "code",
   "execution_count": null,
   "metadata": {},
   "outputs": [],
   "source": []
  },
  {
   "cell_type": "code",
   "execution_count": null,
   "metadata": {},
   "outputs": [],
   "source": []
  },
  {
   "cell_type": "code",
   "execution_count": null,
   "metadata": {},
   "outputs": [],
   "source": []
  },
  {
   "cell_type": "code",
   "execution_count": null,
   "metadata": {},
   "outputs": [],
   "source": []
  },
  {
   "cell_type": "code",
   "execution_count": null,
   "metadata": {},
   "outputs": [],
   "source": []
  },
  {
   "cell_type": "code",
   "execution_count": null,
   "metadata": {},
   "outputs": [],
   "source": []
  },
  {
   "cell_type": "code",
   "execution_count": null,
   "metadata": {},
   "outputs": [],
   "source": []
  },
  {
   "cell_type": "code",
   "execution_count": null,
   "metadata": {},
   "outputs": [],
   "source": []
  },
  {
   "cell_type": "code",
   "execution_count": null,
   "metadata": {},
   "outputs": [],
   "source": []
  },
  {
   "cell_type": "code",
   "execution_count": null,
   "metadata": {},
   "outputs": [],
   "source": []
  },
  {
   "cell_type": "code",
   "execution_count": null,
   "metadata": {},
   "outputs": [],
   "source": []
  },
  {
   "cell_type": "code",
   "execution_count": null,
   "metadata": {},
   "outputs": [],
   "source": []
  },
  {
   "cell_type": "code",
   "execution_count": null,
   "metadata": {},
   "outputs": [],
   "source": []
  },
  {
   "cell_type": "code",
   "execution_count": null,
   "metadata": {},
   "outputs": [],
   "source": []
  },
  {
   "cell_type": "code",
   "execution_count": null,
   "metadata": {},
   "outputs": [],
   "source": []
  },
  {
   "cell_type": "code",
   "execution_count": null,
   "metadata": {},
   "outputs": [],
   "source": []
  },
  {
   "cell_type": "code",
   "execution_count": null,
   "metadata": {},
   "outputs": [],
   "source": []
  },
  {
   "cell_type": "code",
   "execution_count": null,
   "metadata": {},
   "outputs": [],
   "source": []
  },
  {
   "cell_type": "code",
   "execution_count": null,
   "metadata": {},
   "outputs": [],
   "source": []
  },
  {
   "cell_type": "code",
   "execution_count": null,
   "metadata": {},
   "outputs": [],
   "source": []
  },
  {
   "cell_type": "code",
   "execution_count": null,
   "metadata": {},
   "outputs": [],
   "source": []
  }
 ],
 "metadata": {
  "kernelspec": {
   "display_name": "Python 3",
   "language": "python",
   "name": "python3"
  },
  "language_info": {
   "codemirror_mode": {
    "name": "ipython",
    "version": 3
   },
   "file_extension": ".py",
   "mimetype": "text/x-python",
   "name": "python",
   "nbconvert_exporter": "python",
   "pygments_lexer": "ipython3",
   "version": "3.8.3"
  }
 },
 "nbformat": 4,
 "nbformat_minor": 4
}
